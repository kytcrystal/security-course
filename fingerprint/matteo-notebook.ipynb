{
 "cells": [
  {
   "cell_type": "markdown",
   "metadata": {},
   "source": [
    "# Calculation of FMR and FNM\n"
   ]
  },
  {
   "cell_type": "code",
   "execution_count": 12,
   "metadata": {},
   "outputs": [],
   "source": [
    "# Use numpy to do the operations on vectors and matrices\n",
    "import numpy as np\n",
    "\n",
    "# Use pandas and matplotlib for the visualization\n",
    "import pandas as pd\n",
    "import matplotlib.pyplot as plt"
   ]
  },
  {
   "cell_type": "code",
   "execution_count": 13,
   "metadata": {},
   "outputs": [
    {
     "name": "stdout",
     "output_type": "stream",
     "text": [
      "similarity: [0.35789515 0.47351892 0.05995046 0.08874108 0.07569227 0.72202913\n",
      " 0.07396726 0.31923201 0.228292   0.29650031 0.03048375 0.65640027\n",
      " 0.29076239 0.48675313]\n",
      "truth: [1 0 0 0 0 1 1 1 1 1 0 0 0 1]\n"
     ]
    }
   ],
   "source": [
    "# Initialize Initial values as provided by in the spreadsheet\n",
    "similarity = np.array([ 0.357895150227523,  0.473518915217542,   0.0599504565670546,   0.0887410791564728,   0.0756922701446284,   0.722029125869383,    0.073967257324095,     0.319232006160412,  0.228291996127948,   0.296500305530314,    0.0304837460453645,    0.6564002679605,   0.290762386182204,    0.48675312969213])\n",
    "\n",
    "truth = np.array([1, 0, 0, 0, 0, 1, 1, 1, 1, 1, 0, 0, 0, 1])\n",
    "\n",
    "print(\"similarity:\", similarity)\n",
    "print(\"truth:\", truth)\n",
    "\n",
    "truth = truth[:, np.newaxis]\n",
    "similarity = similarity[:, np.newaxis] # transform it to a column vector for easier calculations"
   ]
  },
  {
   "cell_type": "code",
   "execution_count": 14,
   "metadata": {},
   "outputs": [
    {
     "name": "stdout",
     "output_type": "stream",
     "text": [
      "thresholds:  [0.1 0.2 0.3 0.4 0.5 0.6 0.7 0.8 0.9 1. ]\n",
      "[[1 1 1 0 0 0 0 0 0 0]\n",
      " [1 1 1 1 0 0 0 0 0 0]\n",
      " [0 0 0 0 0 0 0 0 0 0]\n",
      " [0 0 0 0 0 0 0 0 0 0]\n",
      " [0 0 0 0 0 0 0 0 0 0]\n",
      " [1 1 1 1 1 1 1 0 0 0]\n",
      " [0 0 0 0 0 0 0 0 0 0]\n",
      " [1 1 1 0 0 0 0 0 0 0]\n",
      " [1 1 0 0 0 0 0 0 0 0]\n",
      " [1 1 0 0 0 0 0 0 0 0]\n",
      " [0 0 0 0 0 0 0 0 0 0]\n",
      " [1 1 1 1 1 1 0 0 0 0]\n",
      " [1 1 0 0 0 0 0 0 0 0]\n",
      " [1 1 1 1 0 0 0 0 0 0]]\n"
     ]
    }
   ],
   "source": [
    "thresholds = np.linspace(0.1, 1,num=10)\n",
    "print(\"thresholds: \", thresholds)\n",
    "\n",
    "thresholds_matrix = np.ones((len(similarity), len(thresholds))) * thresholds\n",
    "\n",
    "predictions = (similarity > thresholds_matrix) + 0 # so we convert to numbers\n",
    "print(predictions)"
   ]
  },
  {
   "cell_type": "code",
   "execution_count": 15,
   "metadata": {},
   "outputs": [
    {
     "name": "stdout",
     "output_type": "stream",
     "text": [
      "predicted_not_authorized:  [9 9 6 4 2 2 1 0 0 0]\n",
      "predicted_authorized:  [ 5  5  8 10 12 12 13 14 14 14]\n",
      "attempts_of_real_authorized_users: [7]\n",
      "attempts_of_real_not_authorized_users: [7]\n"
     ]
    }
   ],
   "source": [
    "predicted_not_authorized = predictions.sum(axis=0)\n",
    "predicted_authorized = (1-predictions).sum(axis=0)\n",
    "print(\"predicted_not_authorized: \", predicted_not_authorized)\n",
    "print(\"predicted_authorized: \", predicted_authorized)\n",
    "\n",
    "attempts_of_real_authorized_users = sum(truth)\n",
    "attempts_of_real_not_authorized_users = sum(1-truth)\n",
    "print(\"attempts_of_real_authorized_users:\", attempts_of_real_authorized_users)\n",
    "print(\"attempts_of_real_not_authorized_users:\", attempts_of_real_not_authorized_users)\n"
   ]
  },
  {
   "cell_type": "code",
   "execution_count": 16,
   "metadata": {},
   "outputs": [
    {
     "name": "stdout",
     "output_type": "stream",
     "text": [
      "[[0 0 0 0 0 0 0 0 0 0]\n",
      " [1 1 1 1 0 0 0 0 0 0]\n",
      " [0 0 0 0 0 0 0 0 0 0]\n",
      " [0 0 0 0 0 0 0 0 0 0]\n",
      " [0 0 0 0 0 0 0 0 0 0]\n",
      " [0 0 0 0 0 0 0 0 0 0]\n",
      " [0 0 0 0 0 0 0 0 0 0]\n",
      " [0 0 0 0 0 0 0 0 0 0]\n",
      " [0 0 0 0 0 0 0 0 0 0]\n",
      " [0 0 0 0 0 0 0 0 0 0]\n",
      " [0 0 0 0 0 0 0 0 0 0]\n",
      " [1 1 1 1 1 1 0 0 0 0]\n",
      " [1 1 0 0 0 0 0 0 0 0]\n",
      " [0 0 0 0 0 0 0 0 0 0]]\n",
      "[0.42857143 0.42857143 0.28571429 0.28571429 0.14285714 0.14285714\n",
      " 0.         0.         0.         0.        ]\n"
     ]
    }
   ],
   "source": [
    "false_positive = (np.logical_and(predictions != truth, truth == 0)) + 0\n",
    "print(false_positive)\n",
    "FMR = false_positive.sum(axis=0) / attempts_of_real_authorized_users\n",
    "print(FMR)"
   ]
  },
  {
   "cell_type": "code",
   "execution_count": 17,
   "metadata": {},
   "outputs": [
    {
     "name": "stdout",
     "output_type": "stream",
     "text": [
      "[[0 0 0 1 1 1 1 1 1 1]\n",
      " [0 0 0 0 0 0 0 0 0 0]\n",
      " [0 0 0 0 0 0 0 0 0 0]\n",
      " [0 0 0 0 0 0 0 0 0 0]\n",
      " [0 0 0 0 0 0 0 0 0 0]\n",
      " [0 0 0 0 0 0 0 1 1 1]\n",
      " [1 1 1 1 1 1 1 1 1 1]\n",
      " [0 0 0 1 1 1 1 1 1 1]\n",
      " [0 0 1 1 1 1 1 1 1 1]\n",
      " [0 0 1 1 1 1 1 1 1 1]\n",
      " [0 0 0 0 0 0 0 0 0 0]\n",
      " [0 0 0 0 0 0 0 0 0 0]\n",
      " [0 0 0 0 0 0 0 0 0 0]\n",
      " [0 0 0 0 1 1 1 1 1 1]]\n",
      "[0.14285714 0.14285714 0.42857143 0.71428571 0.85714286 0.85714286\n",
      " 0.85714286 1.         1.         1.        ]\n"
     ]
    }
   ],
   "source": [
    "false_negatives = (np.logical_and(predictions != truth, truth == 1)) + 0\n",
    "print(false_negatives)\n",
    "FNMR = false_negatives.sum(axis=0) / attempts_of_real_not_authorized_users\n",
    "print(FNMR)"
   ]
  },
  {
   "cell_type": "code",
   "execution_count": 18,
   "metadata": {},
   "outputs": [
    {
     "data": {
      "text/html": [
       "<div>\n",
       "<style scoped>\n",
       "    .dataframe tbody tr th:only-of-type {\n",
       "        vertical-align: middle;\n",
       "    }\n",
       "\n",
       "    .dataframe tbody tr th {\n",
       "        vertical-align: top;\n",
       "    }\n",
       "\n",
       "    .dataframe thead th {\n",
       "        text-align: right;\n",
       "    }\n",
       "</style>\n",
       "<table border=\"1\" class=\"dataframe\">\n",
       "  <thead>\n",
       "    <tr style=\"text-align: right;\">\n",
       "      <th></th>\n",
       "      <th>thresholds</th>\n",
       "      <th>FNMR</th>\n",
       "      <th>FMR</th>\n",
       "    </tr>\n",
       "  </thead>\n",
       "  <tbody>\n",
       "    <tr>\n",
       "      <th>0</th>\n",
       "      <td>0.1</td>\n",
       "      <td>0.142857</td>\n",
       "      <td>0.428571</td>\n",
       "    </tr>\n",
       "    <tr>\n",
       "      <th>1</th>\n",
       "      <td>0.2</td>\n",
       "      <td>0.142857</td>\n",
       "      <td>0.428571</td>\n",
       "    </tr>\n",
       "    <tr>\n",
       "      <th>2</th>\n",
       "      <td>0.3</td>\n",
       "      <td>0.428571</td>\n",
       "      <td>0.285714</td>\n",
       "    </tr>\n",
       "    <tr>\n",
       "      <th>3</th>\n",
       "      <td>0.4</td>\n",
       "      <td>0.714286</td>\n",
       "      <td>0.285714</td>\n",
       "    </tr>\n",
       "    <tr>\n",
       "      <th>4</th>\n",
       "      <td>0.5</td>\n",
       "      <td>0.857143</td>\n",
       "      <td>0.142857</td>\n",
       "    </tr>\n",
       "    <tr>\n",
       "      <th>5</th>\n",
       "      <td>0.6</td>\n",
       "      <td>0.857143</td>\n",
       "      <td>0.142857</td>\n",
       "    </tr>\n",
       "    <tr>\n",
       "      <th>6</th>\n",
       "      <td>0.7</td>\n",
       "      <td>0.857143</td>\n",
       "      <td>0.000000</td>\n",
       "    </tr>\n",
       "    <tr>\n",
       "      <th>7</th>\n",
       "      <td>0.8</td>\n",
       "      <td>1.000000</td>\n",
       "      <td>0.000000</td>\n",
       "    </tr>\n",
       "    <tr>\n",
       "      <th>8</th>\n",
       "      <td>0.9</td>\n",
       "      <td>1.000000</td>\n",
       "      <td>0.000000</td>\n",
       "    </tr>\n",
       "    <tr>\n",
       "      <th>9</th>\n",
       "      <td>1.0</td>\n",
       "      <td>1.000000</td>\n",
       "      <td>0.000000</td>\n",
       "    </tr>\n",
       "  </tbody>\n",
       "</table>\n",
       "</div>"
      ],
      "text/plain": [
       "   thresholds      FNMR       FMR\n",
       "0         0.1  0.142857  0.428571\n",
       "1         0.2  0.142857  0.428571\n",
       "2         0.3  0.428571  0.285714\n",
       "3         0.4  0.714286  0.285714\n",
       "4         0.5  0.857143  0.142857\n",
       "5         0.6  0.857143  0.142857\n",
       "6         0.7  0.857143  0.000000\n",
       "7         0.8  1.000000  0.000000\n",
       "8         0.9  1.000000  0.000000\n",
       "9         1.0  1.000000  0.000000"
      ]
     },
     "execution_count": 18,
     "metadata": {},
     "output_type": "execute_result"
    }
   ],
   "source": [
    "ratios_by_thresholds = pd.DataFrame(\n",
    "    {\n",
    "        \"thresholds\": thresholds,\n",
    "        \"FNMR\": FNMR,\n",
    "        \"FMR\": FMR\n",
    "    }\n",
    ")\n",
    "ratios_by_thresholds"
   ]
  },
  {
   "cell_type": "code",
   "execution_count": 19,
   "metadata": {},
   "outputs": [
    {
     "data": {
      "text/plain": [
       "<Axes: xlabel='thresholds'>"
      ]
     },
     "execution_count": 19,
     "metadata": {},
     "output_type": "execute_result"
    },
    {
     "data": {
      "image/png": "[encoded data removed]",
      "text/plain": [
       "<Figure size 640x480 with 1 Axes>"
      ]
     },
     "metadata": {},
     "output_type": "display_data"
    }
   ],
   "source": [
    "ratios_by_thresholds.plot(x=0)"
   ]
  }
 ],
 "metadata": {
  "kernelspec": {
   "display_name": "Python 3",
   "language": "python",
   "name": "python3"
  },
  "language_info": {
   "codemirror_mode": {
    "name": "ipython",
    "version": 3
   },
   "file_extension": ".py",
   "mimetype": "text/x-python",
   "name": "python",
   "nbconvert_exporter": "python",
   "pygments_lexer": "ipython3",
   "version": "3.11.8"
  }
 },
 "nbformat": 4,
 "nbformat_minor": 2
}
