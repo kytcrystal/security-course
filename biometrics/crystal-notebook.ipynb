{
 "cells": [
  {
   "cell_type": "markdown",
   "metadata": {},
   "source": [
    "False match rate\n",
    "FMR = no. of successful access of unauthorised user / no. attempts of unauthorised users\n",
    "\n",
    "False non match rate\n",
    "FNMR = no. of unsuccessful access of authorised user / no. attempts of authorised users"
   ]
  },
  {
   "cell_type": "code",
   "execution_count": 99,
   "metadata": {},
   "outputs": [],
   "source": [
    "# Initial values\n",
    "\n",
    "Similarity = [\n",
    "0.357895150227523\n",
    ",0.473518915217542\n",
    ",0.0599504565670546\n",
    ",0.0887410791564728\n",
    ",0.0756922701446284\n",
    ",0.722029125869383\n",
    ",0.073967257324095\n",
    ",0.319232006160412\n",
    ",0.228291996127948\n",
    ",0.296500305530314\n",
    ",0.0304837460453645\n",
    ",0.6564002679605\n",
    ",0.290762386182204\n",
    ",0.48675312969213]\n",
    "\n",
    "Truth = [1,0,0,0,0,1,1,1,1,1,0,0,0,1]\n",
    "\n",
    "Threshold = [p/10 for p in range(1, 11)]"
   ]
  },
  {
   "cell_type": "code",
   "execution_count": 100,
   "metadata": {},
   "outputs": [],
   "source": [
    "# Prediction Per Threshold Table\n",
    "\n",
    "Prediction = [[int(j > i) for i in Threshold] for j in Similarity]"
   ]
  },
  {
   "cell_type": "code",
   "execution_count": 101,
   "metadata": {},
   "outputs": [
    {
     "data": {
      "text/plain": [
       "[[0, 0, 0, 0, 0, 0, 0, 0, 0, 0],\n",
       " [1, 1, 1, 1, 0, 0, 0, 0, 0, 0],\n",
       " [0, 0, 0, 0, 0, 0, 0, 0, 0, 0],\n",
       " [0, 0, 0, 0, 0, 0, 0, 0, 0, 0],\n",
       " [0, 0, 0, 0, 0, 0, 0, 0, 0, 0],\n",
       " [0, 0, 0, 0, 0, 0, 0, 0, 0, 0],\n",
       " [0, 0, 0, 0, 0, 0, 0, 0, 0, 0],\n",
       " [0, 0, 0, 0, 0, 0, 0, 0, 0, 0],\n",
       " [0, 0, 0, 0, 0, 0, 0, 0, 0, 0],\n",
       " [0, 0, 0, 0, 0, 0, 0, 0, 0, 0],\n",
       " [0, 0, 0, 0, 0, 0, 0, 0, 0, 0],\n",
       " [1, 1, 1, 1, 1, 1, 0, 0, 0, 0],\n",
       " [1, 1, 0, 0, 0, 0, 0, 0, 0, 0],\n",
       " [0, 0, 0, 0, 0, 0, 0, 0, 0, 0]]"
      ]
     },
     "execution_count": 101,
     "metadata": {},
     "output_type": "execute_result"
    }
   ],
   "source": [
    "# False Positive Table\n",
    "# false positive when prediction is 1 and truth 0\n",
    "# p-t > 0\n",
    "\n",
    "FP = [[int(p-t > 0) for p in p_list] for p_list, t in zip(Prediction, Truth)]\n",
    "FP"
   ]
  },
  {
   "cell_type": "code",
   "execution_count": 102,
   "metadata": {},
   "outputs": [],
   "source": [
    "# False Match Rate\n",
    "# FMR = no. of successful access of unauthorised user / no. attempts of unauthorised users\n",
    "\n",
    "Unauthorized_users = len(Truth) - sum(Truth)\n",
    "FMR = [sum([col[i] for col in FP]) / Unauthorized_users for i in range(0, len(Threshold))]"
   ]
  },
  {
   "cell_type": "code",
   "execution_count": 103,
   "metadata": {},
   "outputs": [],
   "source": [
    "# False Negative Table\n",
    "# false negative when truth is 1 and prediction is 0\n",
    "# t-p > 0\n",
    "\n",
    "FN = [[int(t-p > 0) for p in p_list] for p_list, t in zip(Prediction, Truth)]"
   ]
  },
  {
   "cell_type": "code",
   "execution_count": 104,
   "metadata": {},
   "outputs": [],
   "source": [
    "# False Non Match Rate\n",
    "# FNMR = no. of unsuccessful access of authorised user / no. attempts of authorised users\n",
    "\n",
    "Authorized_users = sum(Truth)\n",
    "FNMR = [sum([col[i] for col in FN]) / Authorized_users for i in range(0, len(Threshold))]"
   ]
  },
  {
   "cell_type": "code",
   "execution_count": 105,
   "metadata": {},
   "outputs": [
    {
     "name": "stdout",
     "output_type": "stream",
     "text": [
      "False Match Rates: [0.42857142857142855, 0.42857142857142855, 0.2857142857142857, 0.2857142857142857, 0.14285714285714285, 0.14285714285714285, 0.0, 0.0, 0.0, 0.0]\n",
      "False Non Match Rates: [0.14285714285714285, 0.14285714285714285, 0.42857142857142855, 0.7142857142857143, 0.8571428571428571, 0.8571428571428571, 0.8571428571428571, 1.0, 1.0, 1.0]\n"
     ]
    }
   ],
   "source": [
    "print(\"False Match Rates:\", FMR)\n",
    "print(\"False Non Match Rates:\", FNMR)"
   ]
  },
  {
   "cell_type": "code",
   "execution_count": 123,
   "metadata": {},
   "outputs": [
    {
     "data": {
      "image/png": "[encoded data removed]",
      "text/plain": [
       "<Figure size 640x480 with 1 Axes>"
      ]
     },
     "metadata": {},
     "output_type": "display_data"
    }
   ],
   "source": [
    "import matplotlib.pyplot as plt\n",
    "import pandas as pd\n",
    "\n",
    "results = pd.DataFrame({'Threshold': Threshold, 'FMR': FMR, 'FNMR': FNMR})\n",
    "results.plot(x=0)\n",
    "plt.legend(loc='lower right')\n",
    "plt.ylabel(\"Rate\")\n",
    "plt.show()"
   ]
  }
 ],
 "metadata": {
  "kernelspec": {
   "display_name": "Python 3",
   "language": "python",
   "name": "python3"
  },
  "language_info": {
   "codemirror_mode": {
    "name": "ipython",
    "version": 3
   },
   "file_extension": ".py",
   "mimetype": "text/x-python",
   "name": "python",
   "nbconvert_exporter": "python",
   "pygments_lexer": "ipython3",
   "version": "3.9.6"
  }
 },
 "nbformat": 4,
 "nbformat_minor": 2
}
